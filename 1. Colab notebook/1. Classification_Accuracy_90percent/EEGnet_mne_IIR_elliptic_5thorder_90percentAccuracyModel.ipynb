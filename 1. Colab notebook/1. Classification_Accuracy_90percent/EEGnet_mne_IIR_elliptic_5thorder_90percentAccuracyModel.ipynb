{
  "cells": [
    {
      "cell_type": "markdown",
      "source": [
        "# **E1-201 : Hardware Acceleration on Machine Learning**\n",
        "---\n",
        "## **Course Project :**\n",
        "### **Implementation of Brain Computer Interface(BCI) Decoder using Arduino Nano 33 BLE sense Lite**\n",
        "---\n",
        "**Authors :**\n",
        "1. Hitesh Pavan Oleti (SR.No.:19804, ESE, IISc)\n",
        "2. Anand Chauhan      (SR.No.:*****, ESE, IISc)\n",
        "\n",
        "**Submitted to :**\n",
        "\n",
        "Prof. Chetan Singh Thakur,\n",
        "\n",
        "NeuRonICS Lab, IISc.\n",
        "\n",
        "---"
      ],
      "metadata": {
        "id": "ssIqE13ZYAI0"
      }
    },
    {
      "cell_type": "markdown",
      "source": [
        "**TensorFlow Version**"
      ],
      "metadata": {
        "id": "Bfuvw-mpaQK8"
      }
    },
    {
      "cell_type": "code",
      "source": [
        "import tensorflow as tf\n",
        "tf.print(tf.__version__)"
      ],
      "metadata": {
        "colab": {
          "base_uri": "https://localhost:8080/"
        },
        "id": "5WM6SA1JEJF7",
        "outputId": "ba098271-ba2c-4198-e078-0d5853083f34"
      },
      "execution_count": 39,
      "outputs": [
        {
          "output_type": "stream",
          "name": "stdout",
          "text": [
            "2.9.2\n"
          ]
        }
      ]
    },
    {
      "cell_type": "markdown",
      "source": [
        "**Installing MNE Package**\n",
        "\n",
        "(An open-source Python package for exploring, visualizing, and analyzing human neurophysiological data: MEG, EEG, sEEG, ECoG and NIRS)"
      ],
      "metadata": {
        "id": "nmtfYRFsaGvC"
      }
    },
    {
      "cell_type": "code",
      "execution_count": null,
      "metadata": {
        "colab": {
          "base_uri": "https://localhost:8080/"
        },
        "id": "7Xkm-h5X6zk2",
        "outputId": "80e4f4f3-6249-4e42-dd96-a26fafc72128"
      },
      "outputs": [
        {
          "output_type": "stream",
          "name": "stdout",
          "text": [
            "Looking in indexes: https://pypi.org/simple, https://us-python.pkg.dev/colab-wheels/public/simple/\n",
            "Requirement already satisfied: mne in /usr/local/lib/python3.8/dist-packages (1.2.3)\n",
            "Requirement already satisfied: scipy>=1.1.0 in /usr/local/lib/python3.8/dist-packages (from mne) (1.7.3)\n",
            "Requirement already satisfied: packaging in /usr/local/lib/python3.8/dist-packages (from mne) (21.3)\n",
            "Requirement already satisfied: numpy>=1.15.4 in /usr/local/lib/python3.8/dist-packages (from mne) (1.21.6)\n",
            "Requirement already satisfied: pooch>=1.5 in /usr/local/lib/python3.8/dist-packages (from mne) (1.6.0)\n",
            "Requirement already satisfied: jinja2 in /usr/local/lib/python3.8/dist-packages (from mne) (2.11.3)\n",
            "Requirement already satisfied: decorator in /usr/local/lib/python3.8/dist-packages (from mne) (4.4.2)\n",
            "Requirement already satisfied: tqdm in /usr/local/lib/python3.8/dist-packages (from mne) (4.64.1)\n",
            "Requirement already satisfied: matplotlib in /usr/local/lib/python3.8/dist-packages (from mne) (3.2.2)\n",
            "Requirement already satisfied: appdirs>=1.3.0 in /usr/local/lib/python3.8/dist-packages (from pooch>=1.5->mne) (1.4.4)\n",
            "Requirement already satisfied: requests>=2.19.0 in /usr/local/lib/python3.8/dist-packages (from pooch>=1.5->mne) (2.23.0)\n",
            "Requirement already satisfied: pyparsing!=3.0.5,>=2.0.2 in /usr/local/lib/python3.8/dist-packages (from packaging->mne) (3.0.9)\n",
            "Requirement already satisfied: chardet<4,>=3.0.2 in /usr/local/lib/python3.8/dist-packages (from requests>=2.19.0->pooch>=1.5->mne) (3.0.4)\n",
            "Requirement already satisfied: idna<3,>=2.5 in /usr/local/lib/python3.8/dist-packages (from requests>=2.19.0->pooch>=1.5->mne) (2.10)\n",
            "Requirement already satisfied: certifi>=2017.4.17 in /usr/local/lib/python3.8/dist-packages (from requests>=2.19.0->pooch>=1.5->mne) (2022.9.24)\n",
            "Requirement already satisfied: urllib3!=1.25.0,!=1.25.1,<1.26,>=1.21.1 in /usr/local/lib/python3.8/dist-packages (from requests>=2.19.0->pooch>=1.5->mne) (1.24.3)\n",
            "Requirement already satisfied: MarkupSafe>=0.23 in /usr/local/lib/python3.8/dist-packages (from jinja2->mne) (2.0.1)\n",
            "Requirement already satisfied: python-dateutil>=2.1 in /usr/local/lib/python3.8/dist-packages (from matplotlib->mne) (2.8.2)\n",
            "Requirement already satisfied: cycler>=0.10 in /usr/local/lib/python3.8/dist-packages (from matplotlib->mne) (0.11.0)\n",
            "Requirement already satisfied: kiwisolver>=1.0.1 in /usr/local/lib/python3.8/dist-packages (from matplotlib->mne) (1.4.4)\n",
            "Requirement already satisfied: six>=1.5 in /usr/local/lib/python3.8/dist-packages (from python-dateutil>=2.1->matplotlib->mne) (1.15.0)\n"
          ]
        }
      ],
      "source": [
        "!pip install mne"
      ]
    },
    {
      "cell_type": "markdown",
      "source": [
        "**Importing Libraries**"
      ],
      "metadata": {
        "id": "CJz4tJdhbB9y"
      }
    },
    {
      "cell_type": "code",
      "execution_count": null,
      "metadata": {
        "id": "cPsM6F5u6FAV"
      },
      "outputs": [],
      "source": [
        "import numpy as np\n",
        "\n",
        "# mne imports\n",
        "import mne\n",
        "from mne import io\n",
        "from mne.datasets import sample\n",
        "\n",
        "# EEGNet-specific imports\n",
        "from tensorflow.keras import utils as np_utils\n",
        "from tensorflow.keras.callbacks import ModelCheckpoint\n",
        "from tensorflow.keras import backend as K\n",
        "from tensorflow.keras.models import Model\n",
        "from tensorflow.keras.layers import Dense, Activation, Permute, Dropout\n",
        "from tensorflow.keras.layers import Conv2D, MaxPooling2D, AveragePooling2D\n",
        "from tensorflow.keras.layers import SeparableConv2D, DepthwiseConv2D\n",
        "from tensorflow.keras.layers import BatchNormalization\n",
        "from tensorflow.keras.layers import SpatialDropout2D\n",
        "from tensorflow.keras.regularizers import l1_l2\n",
        "from tensorflow.keras.layers import Input, Flatten\n",
        "from tensorflow.keras.constraints import max_norm\n",
        "from tensorflow.keras import backend as K\n",
        "\n",
        "# tools for plotting confusion matrices\n",
        "from matplotlib import pyplot as plt"
      ]
    },
    {
      "cell_type": "markdown",
      "source": [
        "**Mounting Google Drive**"
      ],
      "metadata": {
        "id": "zwJzgpeebdag"
      }
    },
    {
      "cell_type": "code",
      "source": [
        "from google.colab import drive\n",
        "drive.mount('/content/gdrive')"
      ],
      "metadata": {
        "id": "y59dZi9TEKtr"
      },
      "execution_count": null,
      "outputs": []
    },
    {
      "cell_type": "markdown",
      "source": [
        "## **EEGNet Model**"
      ],
      "metadata": {
        "id": "X6_0exRgbpo5"
      }
    },
    {
      "cell_type": "code",
      "source": [
        "def EEGNet(nb_classes, Chans = 64, Samples = 128, \n",
        "             dropoutRate = 0.5, kernLength = 64, F1 = 8, \n",
        "             D = 2, F2 = 16, norm_rate = 0.25, dropoutType = 'Dropout'):\n",
        "    \"\"\" Keras Implementation of EEGNet\n",
        "    http://iopscience.iop.org/article/10.1088/1741-2552/aace8c/meta\n",
        "    Note that this implements the newest version of EEGNet and NOT the earlier\n",
        "    version (version v1 and v2 on arxiv). We strongly recommend using this\n",
        "    architecture as it performs much better and has nicer properties than\n",
        "    our earlier version. For example:\n",
        "        \n",
        "        1. Depthwise Convolutions to learn spatial filters within a \n",
        "        temporal convolution. The use of the depth_multiplier option maps \n",
        "        exactly to the number of spatial filters learned within a temporal\n",
        "        filter. This matches the setup of algorithms like FBCSP which learn \n",
        "        spatial filters within each filter in a filter-bank. This also limits \n",
        "        the number of free parameters to fit when compared to a fully-connected\n",
        "        convolution. \n",
        "        \n",
        "        2. Separable Convolutions to learn how to optimally combine spatial\n",
        "        filters across temporal bands. Separable Convolutions are Depthwise\n",
        "        Convolutions followed by (1x1) Pointwise Convolutions. \n",
        "        \n",
        "    \n",
        "    While the original paper used Dropout, we found that SpatialDropout2D \n",
        "    sometimes produced slightly better results for classification of ERP \n",
        "    signals. However, SpatialDropout2D significantly reduced performance \n",
        "    on the Oscillatory dataset (SMR, BCI-IV Dataset 2A). We recommend using\n",
        "    the default Dropout in most cases.\n",
        "        \n",
        "    Assumes the input signal is sampled at 128Hz. If you want to use this model\n",
        "    for any other sampling rate you will need to modify the lengths of temporal\n",
        "    kernels and average pooling size in blocks 1 and 2 as needed (double the \n",
        "    kernel lengths for double the sampling rate, etc). Note that we haven't \n",
        "    tested the model performance with this rule so this may not work well. \n",
        "    \n",
        "    The model with default parameters gives the EEGNet-8,2 model as discussed\n",
        "    in the paper. This model should do pretty well in general, although it is\n",
        "\tadvised to do some model searching to get optimal performance on your\n",
        "\tparticular dataset.\n",
        "    We set F2 = F1 * D (number of input filters = number of output filters) for\n",
        "    the SeparableConv2D layer. We haven't extensively tested other values of this\n",
        "    parameter (say, F2 < F1 * D for compressed learning, and F2 > F1 * D for\n",
        "    overcomplete). We believe the main parameters to focus on are F1 and D. \n",
        "    Inputs:\n",
        "        \n",
        "      nb_classes      : int, number of classes to classify\n",
        "      Chans, Samples  : number of channels and time points in the EEG data\n",
        "      dropoutRate     : dropout fraction\n",
        "      kernLength      : length of temporal convolution in first layer. We found\n",
        "                        that setting this to be half the sampling rate worked\n",
        "                        well in practice. For the SMR dataset in particular\n",
        "                        since the data was high-passed at 4Hz we used a kernel\n",
        "                        length of 32.     \n",
        "      F1, F2          : number of temporal filters (F1) and number of pointwise\n",
        "                        filters (F2) to learn. Default: F1 = 8, F2 = F1 * D. \n",
        "      D               : number of spatial filters to learn within each temporal\n",
        "                        convolution. Default: D = 2\n",
        "      dropoutType     : Either SpatialDropout2D or Dropout, passed as a string.\n",
        "    \"\"\"\n",
        "    \n",
        "    if dropoutType == 'SpatialDropout2D':\n",
        "        dropoutType = SpatialDropout2D\n",
        "    elif dropoutType == 'Dropout':\n",
        "        dropoutType = Dropout\n",
        "    else:\n",
        "        raise ValueError('dropoutType must be one of SpatialDropout2D '\n",
        "                         'or Dropout, passed as a string.')\n",
        "    \n",
        "    input1   = Input(shape = (Chans, Samples, 1))\n",
        "\n",
        "    ##################################################################\n",
        "    block1       = Conv2D(F1, (1, kernLength), padding = 'same',\n",
        "                                   input_shape = (Chans, Samples, 1),\n",
        "                                   use_bias = False)(input1)\n",
        "    block1       = BatchNormalization()(block1)\n",
        "    block1       = DepthwiseConv2D((Chans, 1), use_bias = False, \n",
        "                                   depth_multiplier = D,\n",
        "                                   depthwise_constraint = max_norm(1.))(block1)\n",
        "    block1       = BatchNormalization()(block1)\n",
        "    block1       = Activation('relu')(block1)\n",
        "    block1       = AveragePooling2D((1, 4))(block1)\n",
        "    block1       = dropoutType(dropoutRate)(block1)\n",
        "    \n",
        "    block2       = SeparableConv2D(F2, (1, 16),\n",
        "                                   use_bias = False, padding = 'same')(block1)\n",
        "    block2       = BatchNormalization()(block2)\n",
        "    block2       = Activation('relu')(block2)\n",
        "    block2       = AveragePooling2D((1, 8))(block2)\n",
        "    block2       = dropoutType(dropoutRate)(block2)\n",
        "        \n",
        "    flatten      = Flatten(name = 'flatten')(block2)\n",
        "    \n",
        "    dense        = Dense(nb_classes, name = 'dense', \n",
        "                         kernel_constraint = max_norm(norm_rate))(flatten)\n",
        "    softmax      = Activation('softmax', name = 'softmax')(dense)\n",
        "    \n",
        "    return Model(inputs=input1, outputs=softmax)"
      ],
      "metadata": {
        "id": "lrk2WhjVRx33"
      },
      "execution_count": null,
      "outputs": []
    },
    {
      "cell_type": "markdown",
      "source": [
        "**Loading Input Dataset**"
      ],
      "metadata": {
        "id": "UTxx5AsQb1Ev"
      }
    },
    {
      "cell_type": "code",
      "source": [
        "from pandas import read_csv\n",
        "import pandas as pd\n",
        "EPOC_dataset = read_csv('/content/gdrive/MyDrive/HAOML project/mne_iir_elliptic_5thorder.csv')\n",
        "EPOC_dataset = EPOC_dataset.values\n",
        "display(pd.DataFrame(EPOC_dataset))\n",
        "chans = 60; samples = 151;\n",
        "row, col = EPOC_dataset.shape\n",
        "\n",
        "y =  EPOC_dataset[:,col-1]\n",
        "X = np.zeros([row,chans,samples])\n",
        "for i in range(row):\n",
        "  X[i,:,:] = np.reshape(EPOC_dataset[i,0:col-1],(chans,samples))\n",
        "\n",
        "print(X.shape)\n",
        "print(y.shape)"
      ],
      "metadata": {
        "id": "-SjpIlivapW3"
      },
      "execution_count": null,
      "outputs": []
    },
    {
      "cell_type": "markdown",
      "source": [
        "**Train, Validation and Test split**"
      ],
      "metadata": {
        "id": "iMTJAlyxb8qb"
      }
    },
    {
      "cell_type": "code",
      "source": [
        "kernels, chans, samples = 1, 60, 151\n",
        "\n",
        "# take 50/25/25 percent of the data to train/validate/test\n",
        "X_train      = X[0:144,]\n",
        "Y_train      = y[0:144]\n",
        "X_validate   = X[144:216,]\n",
        "Y_validate   = y[144:216]\n",
        "X_test       = X[216:,]\n",
        "Y_test       = y[216:]\n"
      ],
      "metadata": {
        "id": "IgPRHt5NRIaw"
      },
      "execution_count": null,
      "outputs": []
    },
    {
      "cell_type": "markdown",
      "source": [
        "## **EEGNet model training**"
      ],
      "metadata": {
        "id": "DKGJ1LrqcG1V"
      }
    },
    {
      "cell_type": "code",
      "source": [
        "############################# EEGNet portion ##################################\n",
        "\n",
        "# convert labels to one-hot encodings.\n",
        "Y_train      = np_utils.to_categorical(Y_train-1)\n",
        "Y_validate   = np_utils.to_categorical(Y_validate-1)\n",
        "Y_test       = np_utils.to_categorical(Y_test-1)\n",
        "print(Y_train.shape, 'train samples Y')\n",
        "print(Y_test.shape, 'test samples Y')\n",
        "\n",
        "\n",
        "# convert data to NHWC (trials, channels, samples, kernels) format. Data \n",
        "# contains 60 channels and 151 time-points. Set the number of kernels to 1.\n",
        "X_train      = X_train.reshape(X_train.shape[0], chans, samples, kernels)\n",
        "X_validate   = X_validate.reshape(X_validate.shape[0], chans, samples, kernels)\n",
        "X_test       = X_test.reshape(X_test.shape[0], chans, samples, kernels)\n",
        "   \n",
        "print('X_train shape:', X_train.shape)\n",
        "print(X_train.shape[0], 'train samples')\n",
        "print(X_test.shape[0], 'test samples')\n",
        "\n",
        "# configure the EEGNet-8,2,16 model with kernel length of 32 samples (other \n",
        "# model configurations may do better, but this is a good starting point)\n",
        "model = EEGNet(nb_classes = 4, Chans = chans, Samples = samples, \n",
        "               dropoutRate = 0.5, kernLength = 32, F1 = 8, D = 2, F2 = 16, \n",
        "               dropoutType = 'Dropout')\n",
        "\n",
        "# compile the model and set the optimizers\n",
        "model.compile(loss='categorical_crossentropy', optimizer='adam', \n",
        "              metrics = ['accuracy'])\n",
        "\n",
        "# count number of parameters in the model\n",
        "numParams    = model.count_params()    \n",
        "\n",
        "# set a valid path for your system to record model checkpoints\n",
        "checkpointer = ModelCheckpoint(filepath='/tmp/checkpoint.h5', verbose=1,\n",
        "                               save_best_only=True)\n",
        "\n",
        "class_weights = {0:1, 1:1, 2:1, 3:1}\n",
        "\n",
        "################################################################################\n",
        "# fit the model. Due to very small sample sizes this can get\n",
        "# pretty noisy run-to-run, but most runs should be comparable to xDAWN + \n",
        "# Riemannian geometry classification (below)\n",
        "################################################################################\n",
        "fittedModel = model.fit(X_train, Y_train, batch_size = 16, epochs = 300, \n",
        "                        verbose = 2, validation_data=(X_validate, Y_validate),\n",
        "                        callbacks=[checkpointer], )#class_weight = class_weights)\n",
        "\n",
        "# load optimal weights\n",
        "model.load_weights('/tmp/checkpoint.h5')"
      ],
      "metadata": {
        "id": "X81w8wy6RSmv"
      },
      "execution_count": null,
      "outputs": []
    },
    {
      "cell_type": "markdown",
      "source": [
        "### **Classification Accuracy**"
      ],
      "metadata": {
        "id": "YSa8doAfcOPP"
      }
    },
    {
      "cell_type": "code",
      "source": [
        "probs       = model.predict(X_test)\n",
        "preds       = probs.argmax(axis = -1)  \n",
        "acc         = np.mean(preds == Y_test.argmax(axis=-1))\n",
        "print(\"Classification accuracy: %f \" % (acc))"
      ],
      "metadata": {
        "id": "xLMJ-jrJRY6g"
      },
      "execution_count": null,
      "outputs": []
    },
    {
      "cell_type": "markdown",
      "source": [
        "### **Confusion Matrix**"
      ],
      "metadata": {
        "id": "nLQq4IkncjE7"
      }
    },
    {
      "cell_type": "code",
      "source": [
        "# plot the confusion matrices for both classifiers\n",
        "from sklearn.metrics import confusion_matrix\n",
        "import seaborn as sns\n",
        "\n",
        "#Generate the confusion matrix\n",
        "plt.figure(figsize = (7,7))\n",
        "cf_matrix = confusion_matrix(Y_test.argmax(axis = -1), preds)\n",
        "ax = sns.heatmap(cf_matrix, annot=True, cmap='Blues')\n",
        "ax.set_title('Seaborn Confusion Matrix with labels\\n');\n",
        "ax.set_xlabel('\\nPredicted Values')\n",
        "ax.set_ylabel('Actual Values ');\n",
        "\n",
        "## Ticket labels - List must be in alphabetical order\n",
        "ax.xaxis.set_ticklabels(['Audio_left', 'Audio_right', 'Visual_left', 'Visual_right'])\n",
        "ax.yaxis.set_ticklabels(['Audio_left', 'Audio_right', 'Visual_left', 'Visual_right'])\n",
        "\n",
        "## Display the visualization of the Confusion Matrix.\n",
        "plt.show()"
      ],
      "metadata": {
        "id": "bFv0QSXORaM4"
      },
      "execution_count": null,
      "outputs": []
    },
    {
      "cell_type": "markdown",
      "source": [
        "### **Define paths to model files**"
      ],
      "metadata": {
        "id": "MvSQ3pMfcz2e"
      }
    },
    {
      "cell_type": "code",
      "source": [
        "import os\n",
        "MODELS_DIR = 'models/'\n",
        "if not os.path.exists(MODELS_DIR):\n",
        "    os.mkdir(MODELS_DIR)\n"
      ],
      "metadata": {
        "id": "-n0uylCtUp3e"
      },
      "execution_count": null,
      "outputs": []
    },
    {
      "cell_type": "code",
      "source": [
        "#Defining model name\n",
        "MODEL_TF = MODELS_DIR + 'model'\n",
        "MODEL_NO_QUANT_TFLITE = MODELS_DIR + 'model_no_quant.tflite'\n",
        "tflite_model_name = \"model_tflite\"\n",
        "MODEL_TFLITE = MODELS_DIR + \"model.tflite\"\n",
        "MODEL_TFLITE_MICRO = MODELS_DIR + 'model.cc'"
      ],
      "metadata": {
        "id": "oNXAqZNBUqaV"
      },
      "execution_count": null,
      "outputs": []
    },
    {
      "cell_type": "markdown",
      "source": [
        "**Saving the model**"
      ],
      "metadata": {
        "id": "AtiOcisWc89R"
      }
    },
    {
      "cell_type": "code",
      "source": [
        "model.save(MODEL_TF)"
      ],
      "metadata": {
        "id": "F42T7W6BUzNc"
      },
      "execution_count": null,
      "outputs": []
    },
    {
      "cell_type": "markdown",
      "source": [
        "**Preparing features for evaluating models**"
      ],
      "metadata": {
        "id": "dp97qXFKdDTI"
      }
    },
    {
      "cell_type": "code",
      "source": [
        "import tensorflow as tf\n",
        "\n",
        "x_test = tf.convert_to_tensor(X_train,dtype=tf.float32)\n",
        "print(x_test.shape)\n",
        "def representative_dataset():\n",
        "  for i in range(144):\n",
        "    yield([tf.reshape(x_test[i],(1,60,151,1))])"
      ],
      "metadata": {
        "id": "cFQde_DoVBUP"
      },
      "execution_count": null,
      "outputs": []
    },
    {
      "cell_type": "markdown",
      "source": [
        "### **Convert the model to TFLite without quantization**"
      ],
      "metadata": {
        "id": "C5Aq0-uudH23"
      }
    },
    {
      "cell_type": "code",
      "source": [
        "# Convert the model to TFLite without quantization\n",
        "converter = tf.lite.TFLiteConverter.from_saved_model(MODEL_TF)\n",
        "model_no_quant_tflite = converter.convert()\n",
        "open(MODEL_NO_QUANT_TFLITE, \"wb\").write(model_no_quant_tflite)"
      ],
      "metadata": {
        "id": "2OhD5jcxWtSP"
      },
      "execution_count": null,
      "outputs": []
    },
    {
      "cell_type": "markdown",
      "source": [
        "### **Convert and save the model with quantization**"
      ],
      "metadata": {
        "id": "YNxsPKvKdidS"
      }
    },
    {
      "cell_type": "code",
      "source": [
        "# Convert and save the model with quantization\n",
        "converter.optimizations = [tf.lite.Optimize.DEFAULT]\n",
        "# Enforce integer only quantization\n",
        "converter.target_spec.supported_ops = [tf.lite.OpsSet.TFLITE_BUILTINS_INT8]  #TFLITE_BUILTINS\n",
        "converter.inference_input_type = tf.int8\n",
        "converter.inference_output_type = tf.int8\n",
        "# Create and provide a representative dataset\n",
        "converter.representative_dataset = representative_dataset\n",
        "model_tflite = converter.convert()\n",
        "open(MODEL_TFLITE, \"wb\").write(model_tflite)"
      ],
      "metadata": {
        "id": "x6qZSSzHWxNO"
      },
      "execution_count": null,
      "outputs": []
    },
    {
      "cell_type": "code",
      "source": [
        "print(X_test.shape)\n",
        "x_test1 = X_test.astype(np.float32)\n",
        "print(x_test1.shape)"
      ],
      "metadata": {
        "id": "mKJJejehrB1J"
      },
      "execution_count": null,
      "outputs": []
    },
    {
      "cell_type": "markdown",
      "source": [
        "### **TFLite with no Quantization**"
      ],
      "metadata": {
        "id": "aM1f09A1duqL"
      }
    },
    {
      "cell_type": "code",
      "source": [
        "#initialize and allocate memory\n",
        "no_q_interpreter = tf.lite.Interpreter(model_content=model_no_quant_tflite)\n",
        "no_q_interpreter.allocate_tensors()\n",
        "\n",
        "y_test_pred_no_quant_tflite = np.empty([71,4], dtype=np.float32)\n",
        "success = 0;res_pred = [];res_act = [];\n",
        "\n",
        "for i in range(len(x_test1)):\n",
        "  #Input Tensor\n",
        "  input_shape = no_q_interpreter.get_input_details()[0]['shape'];\n",
        "  inputtensor = np.array(x_test1[i].reshape(input_shape), dtype=np.float32)\n",
        "  #Invoking model interpreter\n",
        "  no_q_interpreter.set_tensor(no_q_interpreter.get_input_details()[0][\"index\"], inputtensor)\n",
        "  no_q_interpreter.invoke()\n",
        "  #Calculating the testing accuracy\n",
        "  y_test_pred_no_quant_tflite[i] = no_q_interpreter.get_tensor(no_q_interpreter.get_output_details()[0][\"index\"])[0]\n",
        "  maxElem = np.amax(y_test_pred_no_quant_tflite[i])\n",
        "  res1 = np.where(y_test_pred_no_quant_tflite[i] == maxElem)\n",
        "  maxElem = np.amax(Y_test[i])\n",
        "  res2 = np.where(Y_test[i] == maxElem)\n",
        "  res_pred.append(res1[0]+1);\n",
        "  res_act.append(res2[0]+1);\n",
        "  if(res1[0] == res2[0]):\n",
        "    success+=1;\n",
        "\n",
        "#Displaying the predicted and actual labels\n",
        "pred = pd.DataFrame(np.reshape(x_test1,(71,60*151)));\n",
        "pred = pred.assign(Pred_Class1 = y_test_pred_no_quant_tflite[:,0],\n",
        "                   Pred_Class2 = y_test_pred_no_quant_tflite[:,1],\n",
        "                   Pred_Class3 = y_test_pred_no_quant_tflite[:,2],\n",
        "                   Pred_Class4 = y_test_pred_no_quant_tflite[:,3],\n",
        "                   Predicted_Class = res_pred,\n",
        "                   Actual_class = res_act);\n",
        "\n",
        "display(pred);\n",
        "\n",
        "print(\"\\nClassification Accuracy for non_quantized model = \",(success/len(x_test1)));    "
      ],
      "metadata": {
        "id": "JEDv44J7rJQK"
      },
      "execution_count": null,
      "outputs": []
    },
    {
      "cell_type": "markdown",
      "source": [
        "**Input Details**"
      ],
      "metadata": {
        "id": "lgN9cQABem9M"
      }
    },
    {
      "cell_type": "code",
      "source": [
        "no_q_interpreter.get_input_details()"
      ],
      "metadata": {
        "id": "ru_L40Dbr6Du"
      },
      "execution_count": null,
      "outputs": []
    },
    {
      "cell_type": "markdown",
      "source": [
        "**Output details**"
      ],
      "metadata": {
        "id": "dSjepkrieqfD"
      }
    },
    {
      "cell_type": "code",
      "source": [
        "no_q_interpreter.get_output_details()"
      ],
      "metadata": {
        "id": "caNmw2zgr6po"
      },
      "execution_count": null,
      "outputs": []
    },
    {
      "cell_type": "markdown",
      "source": [
        "## **TFLite with Quantization**"
      ],
      "metadata": {
        "id": "iWrkoSVGeuq5"
      }
    },
    {
      "cell_type": "markdown",
      "source": [
        "**Allocating tensors**"
      ],
      "metadata": {
        "id": "jkEoREXQe413"
      }
    },
    {
      "cell_type": "code",
      "source": [
        "q_interpreter = tf.lite.Interpreter(model_content=model_tflite)\n",
        "q_interpreter.allocate_tensors()"
      ],
      "metadata": {
        "id": "1YX6hqWbr9BC"
      },
      "execution_count": null,
      "outputs": []
    },
    {
      "cell_type": "markdown",
      "source": [
        "**Model input details**"
      ],
      "metadata": {
        "id": "0RWa5qQUe-PA"
      }
    },
    {
      "cell_type": "code",
      "source": [
        "#interpreter gives us information we'll need to prepare input and output data\n",
        "q_interpreter.get_input_details()"
      ],
      "metadata": {
        "id": "bxrG78NSr_iy"
      },
      "execution_count": null,
      "outputs": []
    },
    {
      "cell_type": "markdown",
      "source": [
        "**Model output details**"
      ],
      "metadata": {
        "id": "cFJX-_kvfDLu"
      }
    },
    {
      "cell_type": "code",
      "source": [
        "q_interpreter.get_output_details()"
      ],
      "metadata": {
        "id": "iBNwEil-sEfC"
      },
      "execution_count": null,
      "outputs": []
    },
    {
      "cell_type": "code",
      "source": [
        "input_details = q_interpreter.get_input_details()[0]\n",
        "output_details = q_interpreter.get_output_details()[0]\n",
        "\n",
        "input_scale, input_zero_point = input_details[\"quantization\"]\n",
        "\n",
        "x_test_ = x_test1 / input_scale + input_zero_point\n",
        "display(pd.DataFrame(np.reshape(x_test1,(71,151*60))));\n",
        "display(pd.DataFrame(np.reshape(x_test_,(71,151*60))));\n",
        "\n",
        "print(x_test1[3]) \n",
        "print(x_test_[3])\n",
        "x_test_ = x_test_.astype(input_details[\"dtype\"])\n",
        "display(pd.DataFrame(np.reshape(x_test_,(71,151*60))));\n",
        "\n",
        "print(\"\\n\\n\\nQuantized output : \\n\")\n",
        "# Invoke the interpreter\n",
        "y_test_pred_tflite = np.empty([71,4], dtype=output_details[\"dtype\"])\n",
        "success = 0;\n",
        "res_pred = [];res_act=[];\n",
        "for i in range(len(x_test_)):\n",
        "    #Input tensors\n",
        "    input_shape= q_interpreter.get_input_details()[0]['shape'];\n",
        "    inputtensor = np.array(x_test_[i].reshape(input_shape), dtype=np.int8)\n",
        "    #invoke interpreter\n",
        "    q_interpreter.set_tensor(input_details[\"index\"], inputtensor)\n",
        "    q_interpreter.invoke()\n",
        "    #Calculate test accuracy\n",
        "    y_test_pred_tflite[i] = q_interpreter.get_tensor(output_details[\"index\"])[0]\n",
        "    maxElem = np.amax(y_test_pred_tflite[i])\n",
        "    res1 = np.where(y_test_pred_tflite[i] == maxElem)\n",
        "    maxElem = np.amax(Y_test[i])\n",
        "    res2 = np.where(Y_test[i] == maxElem)\n",
        "    res_pred.append(res1[0]+1);\n",
        "    res_act.append(res2[0]+1);\n",
        "    if(res1[0][0] == res2[0][0]):\n",
        "      success+=1;\n",
        "  \n",
        "# If required, dequantized the output layer (from integer to float)\n",
        "output_scale, output_zero_point = output_details[\"quantization\"]\n",
        "y_test_pred_tflite = y_test_pred_tflite.astype(np.float32)\n",
        "y_test_pred_tflite1 = (y_test_pred_tflite - output_zero_point) * output_scale\n",
        "\n",
        "pred = pd.DataFrame(np.reshape(x_test_,(71,60*151)));\n",
        "pred = pred.assign(Pred_Class1_q = y_test_pred_tflite[:,0],\n",
        "                   Pred_Class2_q = y_test_pred_tflite[:,1],\n",
        "                   Pred_Class3_q = y_test_pred_tflite[:,2],\n",
        "                   Pred_Class4_q = y_test_pred_tflite[:,3],\n",
        "                   Pred_Class1 = y_test_pred_tflite1[:,0],\n",
        "                   Pred_Class2 = y_test_pred_tflite1[:,1],\n",
        "                   Pred_Class3 = y_test_pred_tflite1[:,2],\n",
        "                   Pred_Class4 = y_test_pred_tflite1[:,3],                   \n",
        "                   Predicted_Class = res_pred,\n",
        "                   Actual_class = res_act);\n",
        "display(pred);\n",
        "\n",
        "print(\"\\nClassification Accuracy for Quantized model = \",success/len(x_test_));"
      ],
      "metadata": {
        "id": "vlvkKBUcsFXz"
      },
      "execution_count": null,
      "outputs": []
    },
    {
      "cell_type": "code",
      "source": [
        "print(x_test_.shape)\n",
        "x_test2 = np.reshape(x_test_,(71,60*151));\n",
        "print(x_test2.shape)\n",
        "\n",
        "dt = pd.DataFrame(x_test2);\n",
        "dt[['y1','y2','y3','y4']] = Y_test;\n",
        "display(dt)\n",
        "dt.to_csv('quantized_int8_Xtest.csv')"
      ],
      "metadata": {
        "id": "MNL5vFD05tOk"
      },
      "execution_count": null,
      "outputs": []
    },
    {
      "cell_type": "markdown",
      "source": [
        "## **Hex file generation of model files**"
      ],
      "metadata": {
        "id": "x8XNtt3Nf3g1"
      }
    },
    {
      "cell_type": "code",
      "source": [
        "# Another Way of getting the array in .h file\n",
        "def hex_to_c_array(hex_data, var_name):\n",
        "\n",
        "  c_str = ''\n",
        "\n",
        "  # Create header guard\n",
        "  c_str += '#ifndef ' + var_name.upper() + '_H\\n'\n",
        "  c_str += '#define ' + var_name.upper() + '_H\\n\\n'\n",
        "\n",
        "  # Add array length at top of file\n",
        "  c_str += '\\nunsigned int ' + var_name + '_len = ' + str(len(hex_data)) + ';\\n'\n",
        "\n",
        "  # Declare C variable\n",
        "  c_str += 'unsigned char ' + var_name + '[] = {'\n",
        "  hex_array = []\n",
        "  for i, val in enumerate(hex_data) :\n",
        "\n",
        "    # Construct string from hex\n",
        "    hex_str = format(val, '#04x')\n",
        "\n",
        "    # Add formatting so each line stays within 80 characters\n",
        "    if (i + 1) < len(hex_data):\n",
        "      hex_str += ','\n",
        "    if (i + 1) % 12 == 0:\n",
        "      hex_str += '\\n '\n",
        "    hex_array.append(hex_str)\n",
        "\n",
        "  # Add closing brace\n",
        "  c_str += '\\n ' + format(' '.join(hex_array)) + '\\n};\\n\\n'\n",
        "\n",
        "  # Close out header guard\n",
        "  c_str += '#endif //' + var_name.upper() + '_H'\n",
        "\n",
        "  return c_str"
      ],
      "metadata": {
        "id": "zha6YobtW64u"
      },
      "execution_count": null,
      "outputs": []
    },
    {
      "cell_type": "markdown",
      "source": [
        "**Getting non-quantized model hex file**"
      ],
      "metadata": {
        "id": "uUqpywC_gBTE"
      }
    },
    {
      "cell_type": "code",
      "source": [
        "c_model_name = \"model_tflite\"\n",
        "with open(c_model_name + '.h', 'w') as file:\n",
        "  file.write(hex_to_c_array(model_tflite , c_model_name)) #model_tflite"
      ],
      "metadata": {
        "id": "-XY1Rgq0W7-O"
      },
      "execution_count": null,
      "outputs": []
    },
    {
      "cell_type": "markdown",
      "source": [
        "**Getting quantized model hex file**"
      ],
      "metadata": {
        "id": "dVu_LLakgNyT"
      }
    },
    {
      "cell_type": "code",
      "source": [
        "c_model_name = \"model_tflite_float\"\n",
        "with open(c_model_name + '.h', 'w') as file:\n",
        "  file.write(hex_to_c_array(model_no_quant_tflite, c_model_name))"
      ],
      "metadata": {
        "id": "-vntObuPW86e"
      },
      "execution_count": null,
      "outputs": []
    }
  ],
  "metadata": {
    "colab": {
      "provenance": []
    },
    "kernelspec": {
      "display_name": "Python 3",
      "name": "python3"
    },
    "language_info": {
      "name": "python"
    }
  },
  "nbformat": 4,
  "nbformat_minor": 0
}